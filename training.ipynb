{
 "cells": [
  {
   "cell_type": "code",
   "execution_count": 1,
   "metadata": {},
   "outputs": [
    {
     "name": "stderr",
     "output_type": "stream",
     "text": [
      "/home/cxshe/.local/lib/python3.5/site-packages/h5py/__init__.py:36: FutureWarning: Conversion of the second argument of issubdtype from `float` to `np.floating` is deprecated. In future, it will be treated as `np.float64 == np.dtype(float).type`.\n",
      "  from ._conv import register_converters as _register_converters\n",
      "Using TensorFlow backend.\n"
     ]
    }
   ],
   "source": [
    "import os\n",
    "from PIL import Image\n",
    "import numpy as np\n",
    "import pandas as pd\n",
    "from keras.models import Sequential\n",
    "from keras.layers import Dense, Activation, Dropout, Flatten, MaxPooling2D, BatchNormalization, Dropout\n",
    "from keras.layers import Conv2D, RepeatVector, Bidirectional, TimeDistributed, GRU\n",
    "from keras.utils import to_categorical\n",
    "from keras.callbacks import Callback\n",
    "from sklearn.model_selection import train_test_split\n",
    "from sklearn.preprocessing import LabelEncoder\n",
    "from sklearn.metrics import accuracy_score"
   ]
  },
  {
   "cell_type": "markdown",
   "metadata": {},
   "source": [
    "## settings"
   ]
  },
  {
   "cell_type": "code",
   "execution_count": 2,
   "metadata": {
    "collapsed": true
   },
   "outputs": [],
   "source": [
    "os.environ[\"CUDA_VISIBLE_DEVICES\"] = \"1\"\n",
    "model_name = './model/model_cnn_rnn'"
   ]
  },
  {
   "cell_type": "markdown",
   "metadata": {},
   "source": [
    "# img label"
   ]
  },
  {
   "cell_type": "code",
   "execution_count": 3,
   "metadata": {},
   "outputs": [
    {
     "name": "stdout",
     "output_type": "stream",
     "text": [
      "data length: 31198\n"
     ]
    },
    {
     "data": {
      "text/html": [
       "<div>\n",
       "<style scoped>\n",
       "    .dataframe tbody tr th:only-of-type {\n",
       "        vertical-align: middle;\n",
       "    }\n",
       "\n",
       "    .dataframe tbody tr th {\n",
       "        vertical-align: top;\n",
       "    }\n",
       "\n",
       "    .dataframe thead th {\n",
       "        text-align: right;\n",
       "    }\n",
       "</style>\n",
       "<table border=\"1\" class=\"dataframe\">\n",
       "  <thead>\n",
       "    <tr style=\"text-align: right;\">\n",
       "      <th></th>\n",
       "      <th>id</th>\n",
       "      <th>label</th>\n",
       "      <th>len</th>\n",
       "    </tr>\n",
       "  </thead>\n",
       "  <tbody>\n",
       "    <tr>\n",
       "      <th>0</th>\n",
       "      <td>0</td>\n",
       "      <td>912247</td>\n",
       "      <td>6</td>\n",
       "    </tr>\n",
       "    <tr>\n",
       "      <th>1</th>\n",
       "      <td>1</td>\n",
       "      <td>06379</td>\n",
       "      <td>5</td>\n",
       "    </tr>\n",
       "    <tr>\n",
       "      <th>2</th>\n",
       "      <td>2</td>\n",
       "      <td>50454</td>\n",
       "      <td>5</td>\n",
       "    </tr>\n",
       "  </tbody>\n",
       "</table>\n",
       "</div>"
      ],
      "text/plain": [
       "  id   label  len\n",
       "0  0  912247    6\n",
       "1  1   06379    5\n",
       "2  2   50454    5"
      ]
     },
     "execution_count": 3,
     "metadata": {},
     "output_type": "execute_result"
    }
   ],
   "source": [
    "df = pd.read_csv('./data/label.csv')\n",
    "df = df.astype(str)\n",
    "df['len'] = df['label'].apply(lambda x: len(x))\n",
    "print('data length:',len(df))\n",
    "df.head(3)"
   ]
  },
  {
   "cell_type": "code",
   "execution_count": 4,
   "metadata": {},
   "outputs": [
    {
     "name": "stdout",
     "output_type": "stream",
     "text": [
      "label len counts:\n"
     ]
    },
    {
     "data": {
      "text/plain": [
       "5    16748\n",
       "6    14450\n",
       "Name: len, dtype: int64"
      ]
     },
     "execution_count": 4,
     "metadata": {},
     "output_type": "execute_result"
    }
   ],
   "source": [
    "maxlen = np.max(df['len'])\n",
    "print('label len counts:')\n",
    "df['len'].value_counts()"
   ]
  },
  {
   "cell_type": "code",
   "execution_count": 5,
   "metadata": {},
   "outputs": [
    {
     "data": {
      "text/html": [
       "<div>\n",
       "<style scoped>\n",
       "    .dataframe tbody tr th:only-of-type {\n",
       "        vertical-align: middle;\n",
       "    }\n",
       "\n",
       "    .dataframe tbody tr th {\n",
       "        vertical-align: top;\n",
       "    }\n",
       "\n",
       "    .dataframe thead th {\n",
       "        text-align: right;\n",
       "    }\n",
       "</style>\n",
       "<table border=\"1\" class=\"dataframe\">\n",
       "  <thead>\n",
       "    <tr style=\"text-align: right;\">\n",
       "      <th></th>\n",
       "      <th>id</th>\n",
       "      <th>label</th>\n",
       "      <th>len</th>\n",
       "      <th>y</th>\n",
       "    </tr>\n",
       "  </thead>\n",
       "  <tbody>\n",
       "    <tr>\n",
       "      <th>0</th>\n",
       "      <td>0</td>\n",
       "      <td>912247</td>\n",
       "      <td>6</td>\n",
       "      <td>912247</td>\n",
       "    </tr>\n",
       "    <tr>\n",
       "      <th>1</th>\n",
       "      <td>1</td>\n",
       "      <td>06379</td>\n",
       "      <td>5</td>\n",
       "      <td>06379#</td>\n",
       "    </tr>\n",
       "    <tr>\n",
       "      <th>2</th>\n",
       "      <td>2</td>\n",
       "      <td>50454</td>\n",
       "      <td>5</td>\n",
       "      <td>50454#</td>\n",
       "    </tr>\n",
       "  </tbody>\n",
       "</table>\n",
       "</div>"
      ],
      "text/plain": [
       "  id   label  len       y\n",
       "0  0  912247    6  912247\n",
       "1  1   06379    5  06379#\n",
       "2  2   50454    5  50454#"
      ]
     },
     "execution_count": 5,
     "metadata": {},
     "output_type": "execute_result"
    }
   ],
   "source": [
    "#驗證碼可能是5或6碼，用'#'補齊label長度\n",
    "df['y'] = [label+'#'*(maxlen-l) for l, label in zip(df['len'], df['label'])]\n",
    "df.head(3)"
   ]
  },
  {
   "cell_type": "markdown",
   "metadata": {},
   "source": [
    "# img data"
   ]
  },
  {
   "cell_type": "markdown",
   "metadata": {},
   "source": [
    "#### preprocess"
   ]
  },
  {
   "cell_type": "code",
   "execution_count": 6,
   "metadata": {},
   "outputs": [
    {
     "data": {
      "image/png": "[encoded data removed]",
      "text/plain": [
       "<PIL.PngImagePlugin.PngImageFile image mode=RGB size=200x60 at 0x7FCB1E12D3C8>"
      ]
     },
     "execution_count": 6,
     "metadata": {},
     "output_type": "execute_result"
    }
   ],
   "source": [
    "#看原始圖片\n",
    "img = Image.open(\"./data/example.png\")\n",
    "img"
   ]
  },
  {
   "cell_type": "code",
   "execution_count": 7,
   "metadata": {},
   "outputs": [
    {
     "data": {
      "image/png": "[encoded data removed]",
      "text/plain": [
       "<PIL.Image.Image image mode=L size=200x60 at 0x7FCB1D510518>"
      ]
     },
     "execution_count": 7,
     "metadata": {},
     "output_type": "execute_result"
    }
   ],
   "source": [
    "#轉灰階\n",
    "img_L = img.convert(\"L\")\n",
    "img_L"
   ]
  },
  {
   "cell_type": "code",
   "execution_count": 8,
   "metadata": {
    "collapsed": true
   },
   "outputs": [],
   "source": [
    "#前處理\n",
    "def img_preprocess(img):\n",
    "    img_L = img.convert(\"L\")     #灰階\n",
    "    img_np = np.array(img_L)\n",
    "    img_np = img_np.transpose()  #旋轉，方便做rnn\n",
    "    img_np = img_np/255.0        #標準化\n",
    "    return(img_np)"
   ]
  },
  {
   "cell_type": "markdown",
   "metadata": {},
   "source": [
    "#### read img data"
   ]
  },
  {
   "cell_type": "code",
   "execution_count": 9,
   "metadata": {},
   "outputs": [
    {
     "name": "stdout",
     "output_type": "stream",
     "text": [
      "Shape of img data: (31198, 200, 60, 1)\n"
     ]
    }
   ],
   "source": [
    "## 讀取圖檔&前處理\n",
    "x_data = np.stack([img_preprocess(Image.open(\"./data/\" + str(i) + \".png\")) for i in df['id']])\n",
    "x_data = x_data.reshape(x_data.shape+(1,))\n",
    "print(\"Shape of img data:\", x_data.shape)"
   ]
  },
  {
   "cell_type": "markdown",
   "metadata": {},
   "source": [
    "#### LabelEncoder & one_hot encoding"
   ]
  },
  {
   "cell_type": "code",
   "execution_count": 10,
   "metadata": {},
   "outputs": [
    {
     "name": "stdout",
     "output_type": "stream",
     "text": [
      "vocab_size: 35\n"
     ]
    },
    {
     "data": {
      "text/plain": [
       "array(['#', '0', '1', '2', '3', '4', '5', '6', '7', '8', '9', 'A', 'B',\n",
       "       'C', 'D', 'E', 'F', 'G', 'H', 'J', 'K', 'L', 'M', 'N', 'P', 'Q',\n",
       "       'R', 'S', 'T', 'U', 'V', 'W', 'X', 'Y', 'Z'], dtype='<U1')"
      ]
     },
     "execution_count": 10,
     "metadata": {},
     "output_type": "execute_result"
    }
   ],
   "source": [
    "y_set = set(''.join(df['y']))\n",
    "vocab_size = len(y_set)\n",
    "le = LabelEncoder()\n",
    "le.fit(list(y_set))\n",
    "print('vocab_size:', vocab_size)\n",
    "le.classes_"
   ]
  },
  {
   "cell_type": "code",
   "execution_count": 11,
   "metadata": {},
   "outputs": [
    {
     "data": {
      "text/plain": [
       "(31198, 6, 35)"
      ]
     },
     "execution_count": 11,
     "metadata": {},
     "output_type": "execute_result"
    }
   ],
   "source": [
    "y_data_le = df['y'].apply(lambda x: le.transform(list(x)))\n",
    "y_data = np.stack([to_categorical(y, vocab_size) for y in y_data_le])\n",
    "y_data.shape"
   ]
  },
  {
   "cell_type": "markdown",
   "metadata": {},
   "source": [
    "## train test split"
   ]
  },
  {
   "cell_type": "code",
   "execution_count": 12,
   "metadata": {},
   "outputs": [
    {
     "name": "stdout",
     "output_type": "stream",
     "text": [
      "(24958, 200, 60, 1) (24958, 6, 35) (6240, 200, 60, 1) (6240, 6, 35) (24958, 4) (6240, 4)\n"
     ]
    }
   ],
   "source": [
    "x_train, x_test, y_train, y_test, df_train, df_test = train_test_split(x_data, y_data, df, test_size=0.2, random_state=1234)\n",
    "print(x_train.shape, y_train.shape, x_test.shape, y_test.shape, df_train.shape, df_test.shape)"
   ]
  },
  {
   "cell_type": "markdown",
   "metadata": {},
   "source": [
    "# training & testing"
   ]
  },
  {
   "cell_type": "code",
   "execution_count": 13,
   "metadata": {
    "collapsed": true
   },
   "outputs": [],
   "source": [
    "input_shape = x_train[0].shape\n",
    "maxlen = np.max(df['len'])\n",
    "vocab_size = len(le.classes_)"
   ]
  },
  {
   "cell_type": "code",
   "execution_count": 14,
   "metadata": {},
   "outputs": [
    {
     "name": "stderr",
     "output_type": "stream",
     "text": [
      "/home/cxshe/.local/lib/python3.5/site-packages/ipykernel_launcher.py:3: UserWarning: Update your `Conv2D` call to the Keras 2 API: `Conv2D(32, (3, 3), padding=\"valid\", input_shape=(200, 60, ..., activation=\"relu\")`\n",
      "  This is separate from the ipykernel package so we can avoid doing imports until\n",
      "/home/cxshe/.local/lib/python3.5/site-packages/ipykernel_launcher.py:9: UserWarning: Update your `Conv2D` call to the Keras 2 API: `Conv2D(64, (3, 3), padding=\"valid\", activation=\"relu\")`\n",
      "  if __name__ == '__main__':\n",
      "/home/cxshe/.local/lib/python3.5/site-packages/ipykernel_launcher.py:15: UserWarning: Update your `Conv2D` call to the Keras 2 API: `Conv2D(128, (3, 3), padding=\"valid\", activation=\"relu\")`\n",
      "  from ipykernel import kernelapp as app\n",
      "/home/cxshe/.local/lib/python3.5/site-packages/ipykernel_launcher.py:24: UserWarning: Update your `GRU` call to the Keras 2 API: `GRU(units=256, return_sequences=True)`\n"
     ]
    },
    {
     "name": "stdout",
     "output_type": "stream",
     "text": [
      "_________________________________________________________________\n",
      "Layer (type)                 Output Shape              Param #   \n",
      "=================================================================\n",
      "conv2d_1 (Conv2D)            (None, 198, 58, 32)       320       \n",
      "_________________________________________________________________\n",
      "conv2d_2 (Conv2D)            (None, 196, 56, 32)       9248      \n",
      "_________________________________________________________________\n",
      "batch_normalization_1 (Batch (None, 196, 56, 32)       128       \n",
      "_________________________________________________________________\n",
      "max_pooling2d_1 (MaxPooling2 (None, 98, 28, 32)        0         \n",
      "_________________________________________________________________\n",
      "dropout_1 (Dropout)          (None, 98, 28, 32)        0         \n",
      "_________________________________________________________________\n",
      "conv2d_3 (Conv2D)            (None, 96, 26, 64)        18496     \n",
      "_________________________________________________________________\n",
      "conv2d_4 (Conv2D)            (None, 94, 24, 64)        36928     \n",
      "_________________________________________________________________\n",
      "batch_normalization_2 (Batch (None, 94, 24, 64)        256       \n",
      "_________________________________________________________________\n",
      "max_pooling2d_2 (MaxPooling2 (None, 47, 12, 64)        0         \n",
      "_________________________________________________________________\n",
      "dropout_2 (Dropout)          (None, 47, 12, 64)        0         \n",
      "_________________________________________________________________\n",
      "conv2d_5 (Conv2D)            (None, 45, 10, 128)       73856     \n",
      "_________________________________________________________________\n",
      "conv2d_6 (Conv2D)            (None, 43, 8, 128)        147584    \n",
      "_________________________________________________________________\n",
      "batch_normalization_3 (Batch (None, 43, 8, 128)        512       \n",
      "_________________________________________________________________\n",
      "max_pooling2d_3 (MaxPooling2 (None, 21, 4, 128)        0         \n",
      "_________________________________________________________________\n",
      "dropout_3 (Dropout)          (None, 21, 4, 128)        0         \n",
      "_________________________________________________________________\n",
      "flatten_1 (Flatten)          (None, 10752)             0         \n",
      "_________________________________________________________________\n",
      "dense_1 (Dense)              (None, 256)               2752768   \n",
      "_________________________________________________________________\n",
      "repeat_vector_1 (RepeatVecto (None, 6, 256)            0         \n",
      "_________________________________________________________________\n",
      "bidirectional_1 (Bidirection (None, 6, 512)            787968    \n",
      "_________________________________________________________________\n",
      "time_distributed_1 (TimeDist (None, 6, 35)             17955     \n",
      "=================================================================\n",
      "Total params: 3,846,019\n",
      "Trainable params: 3,845,571\n",
      "Non-trainable params: 448\n",
      "_________________________________________________________________\n"
     ]
    }
   ],
   "source": [
    "def get_model(input_shape, maxlen, vocab_size):\n",
    "    model = Sequential([\n",
    "        Conv2D(32, (3, 3), input_shape=input_shape, activation='relu', border_mode='valid'),\n",
    "        Conv2D(32, (3, 3), activation='relu'),\n",
    "        BatchNormalization(),\n",
    "        MaxPooling2D(pool_size=(2, 2), strides=(2, 2)),  \n",
    "        Dropout(0.25),\n",
    "    \n",
    "        Conv2D(64, (3, 3), activation='relu', border_mode='valid'),\n",
    "        Conv2D(64, (3, 3), activation='relu'),\n",
    "        BatchNormalization(),\n",
    "        MaxPooling2D(pool_size=(2, 2), strides=(2, 2)),\n",
    "        Dropout(0.25),\n",
    "    \n",
    "        Conv2D(128, (3, 3), activation='relu', border_mode='valid'),\n",
    "        Conv2D(128, (3, 3), activation='relu'),\n",
    "        BatchNormalization(),\n",
    "        MaxPooling2D(pool_size=(2, 2), strides=(2, 2)),\n",
    "        Dropout(0.25),\n",
    "\n",
    "        Flatten(),\n",
    "        Dense(256),\n",
    "        RepeatVector(maxlen),\n",
    "        Bidirectional(GRU(output_dim=256, return_sequences=True)),\n",
    "        TimeDistributed(Dense(vocab_size, activation='softmax')),\n",
    "        ])\n",
    "    return model\n",
    "\n",
    "model = get_model(input_shape=input_shape, maxlen=maxlen, vocab_size=vocab_size)\n",
    "model.compile(loss='categorical_crossentropy', optimizer='adam', metrics=['accuracy'])\n",
    "model.summary()"
   ]
  },
  {
   "cell_type": "code",
   "execution_count": 15,
   "metadata": {
    "collapsed": true
   },
   "outputs": [],
   "source": [
    "def get_result(x, model):\n",
    "    scores = model.predict(x)\n",
    "    pred_le = [ [np.argmax(s) for s in score] for score in scores]\n",
    "    pred_y = [''.join(p) for p in le.inverse_transform(pred_le)]\n",
    "    return pred_y\n",
    "\n",
    "def get_acc(x, y, model):\n",
    "    pred_y = get_result(x, model)\n",
    "    return accuracy_score(y, pred_y)\n",
    "     \n",
    "class EvaluateCallback(Callback):\n",
    "    def __init__(self, x_tr, y_tr, x_te, y_te):\n",
    "        self.x_tr = x_tr\n",
    "        self.y_tr = y_tr\n",
    "        self.x_te = x_te\n",
    "        self.y_te = y_te\n",
    "        self.tr_acc = []\n",
    "        self.te_acc = []\n",
    "    \n",
    "    def on_epoch_end(self, epoch, logs={}):\n",
    "        self.tr_acc.append(get_acc(self.x_tr, self.y_tr, self.model))\n",
    "        self.te_acc.append(get_acc(self.x_te, self.y_te, self.model))"
   ]
  },
  {
   "cell_type": "code",
   "execution_count": 16,
   "metadata": {
    "scrolled": true
   },
   "outputs": [
    {
     "name": "stdout",
     "output_type": "stream",
     "text": [
      "Epoch 1/50\n",
      "24958/24958 [==============================] - 25s 984us/step - loss: 2.5356 - acc: 0.1756\n",
      "Epoch 2/50\n",
      "24958/24958 [==============================] - 22s 883us/step - loss: 2.3791 - acc: 0.2200\n",
      "Epoch 3/50\n",
      "24958/24958 [==============================] - 22s 883us/step - loss: 2.2548 - acc: 0.2727\n",
      "Epoch 4/50\n",
      "24958/24958 [==============================] - 22s 884us/step - loss: 1.8914 - acc: 0.4150\n",
      "Epoch 5/50\n",
      "24958/24958 [==============================] - 22s 883us/step - loss: 1.3305 - acc: 0.6029\n",
      "Epoch 6/50\n",
      "24958/24958 [==============================] - 22s 884us/step - loss: 0.8435 - acc: 0.7722\n",
      "Epoch 7/50\n",
      "24958/24958 [==============================] - 22s 883us/step - loss: 0.4986 - acc: 0.8776\n",
      "Epoch 8/50\n",
      "24958/24958 [==============================] - 22s 883us/step - loss: 0.3104 - acc: 0.9264\n",
      "Epoch 9/50\n",
      "24958/24958 [==============================] - 22s 884us/step - loss: 0.2143 - acc: 0.9503\n",
      "Epoch 10/50\n",
      "24958/24958 [==============================] - 22s 883us/step - loss: 0.1563 - acc: 0.9646\n",
      "Epoch 11/50\n",
      "24958/24958 [==============================] - 22s 883us/step - loss: 0.0671 - acc: 0.9885\n",
      "Epoch 14/50\n",
      "24958/24958 [==============================] - 22s 883us/step - loss: 0.0497 - acc: 0.9924\n",
      "Epoch 15/50\n",
      "24958/24958 [==============================] - 22s 883us/step - loss: 0.0415 - acc: 0.9937\n",
      "Epoch 16/50\n",
      "24958/24958 [==============================] - 22s 883us/step - loss: 0.0326 - acc: 0.9955\n",
      "Epoch 17/50\n",
      "24958/24958 [==============================] - 22s 883us/step - loss: 0.0287 - acc: 0.9957\n",
      "Epoch 18/50\n",
      "24958/24958 [==============================] - 22s 883us/step - loss: 0.0292 - acc: 0.9956\n",
      "Epoch 19/50\n",
      "24958/24958 [==============================] - 22s 883us/step - loss: 0.0214 - acc: 0.9969\n",
      "Epoch 20/50\n",
      "24958/24958 [==============================] - 22s 883us/step - loss: 0.0198 - acc: 0.9970\n",
      "Epoch 21/50\n",
      "24958/24958 [==============================] - 22s 883us/step - loss: 0.0204 - acc: 0.9965\n",
      "Epoch 22/50\n",
      "24958/24958 [==============================] - 22s 883us/step - loss: 0.0192 - acc: 0.9968\n",
      "Epoch 23/50\n",
      "24958/24958 [==============================] - 22s 883us/step - loss: 0.0173 - acc: 0.9970\n",
      "Epoch 24/50\n",
      "24958/24958 [==============================] - 22s 883us/step - loss: 0.0139 - acc: 0.9977\n",
      "Epoch 25/50\n",
      "24958/24958 [==============================] - 22s 883us/step - loss: 0.0113 - acc: 0.9982\n",
      "Epoch 26/50\n",
      "24958/24958 [==============================] - 22s 884us/step - loss: 0.0150 - acc: 0.9973\n",
      "Epoch 27/50\n",
      "24958/24958 [==============================] - 22s 883us/step - loss: 0.0173 - acc: 0.9967\n",
      "Epoch 28/50\n",
      "24958/24958 [==============================] - 22s 883us/step - loss: 0.0166 - acc: 0.9968\n",
      "Epoch 29/50\n",
      "24958/24958 [==============================] - 22s 883us/step - loss: 0.0167 - acc: 0.9967\n",
      "Epoch 30/50\n",
      "24958/24958 [==============================] - 22s 883us/step - loss: 0.0128 - acc: 0.9975\n",
      "Epoch 31/50\n",
      "24958/24958 [==============================] - 22s 883us/step - loss: 0.0101 - acc: 0.9981\n",
      "Epoch 32/50\n",
      "24958/24958 [==============================] - 22s 883us/step - loss: 0.0096 - acc: 0.9982\n",
      "Epoch 33/50\n",
      "24958/24958 [==============================] - 22s 883us/step - loss: 0.0130 - acc: 0.9971\n",
      "Epoch 34/50\n",
      "24958/24958 [==============================] - 22s 883us/step - loss: 0.0198 - acc: 0.9953\n",
      "Epoch 35/50\n",
      "24958/24958 [==============================] - 22s 883us/step - loss: 0.0132 - acc: 0.9972\n",
      "Epoch 36/50\n",
      "24958/24958 [==============================] - 22s 883us/step - loss: 0.0083 - acc: 0.9983\n",
      "Epoch 37/50\n",
      "24958/24958 [==============================] - 22s 883us/step - loss: 0.0063 - acc: 0.9988\n",
      "Epoch 38/50\n",
      "24958/24958 [==============================] - 22s 882us/step - loss: 0.0088 - acc: 0.9980\n",
      "Epoch 39/50\n",
      "24958/24958 [==============================] - 22s 883us/step - loss: 0.0086 - acc: 0.9980\n",
      "Epoch 40/50\n",
      "24958/24958 [==============================] - 22s 883us/step - loss: 0.0093 - acc: 0.9978\n",
      "Epoch 41/50\n",
      "24958/24958 [==============================] - 22s 883us/step - loss: 0.0065 - acc: 0.9985\n",
      "Epoch 42/50\n",
      "24958/24958 [==============================] - 22s 883us/step - loss: 0.0069 - acc: 0.9984\n",
      "Epoch 43/50\n",
      "24958/24958 [==============================] - 22s 882us/step - loss: 0.0070 - acc: 0.9984\n",
      "Epoch 44/50\n",
      "24958/24958 [==============================] - 22s 883us/step - loss: 0.0080 - acc: 0.9981\n",
      "Epoch 45/50\n",
      "24958/24958 [==============================] - 22s 883us/step - loss: 0.0092 - acc: 0.9979\n",
      "Epoch 46/50\n",
      "24958/24958 [==============================] - 22s 883us/step - loss: 0.0074 - acc: 0.9983\n",
      "Epoch 47/50\n",
      "24958/24958 [==============================] - 22s 884us/step - loss: 0.0091 - acc: 0.9979\n",
      "Epoch 48/50\n",
      "24958/24958 [==============================] - 22s 883us/step - loss: 0.0062 - acc: 0.9984\n",
      "Epoch 49/50\n",
      "24958/24958 [==============================] - 22s 882us/step - loss: 0.0059 - acc: 0.9985\n",
      "Epoch 50/50\n",
      "24958/24958 [==============================] - 22s 883us/step - loss: 0.0159 - acc: 0.9957\n"
     ]
    },
    {
     "data": {
      "text/plain": [
       "<keras.callbacks.History at 0x7fcb1caed550>"
      ]
     },
     "execution_count": 16,
     "metadata": {},
     "output_type": "execute_result"
    }
   ],
   "source": [
    "epochs = 50\n",
    "Evaluate = EvaluateCallback(x_train, df_train['y'], x_test, df_test['y'])\n",
    "model.fit(x_train, y_train, batch_size=128, epochs=epochs, verbose=1,\n",
    "          callbacks=[Evaluate]\n",
    "         )"
   ]
  },
  {
   "cell_type": "code",
   "execution_count": 17,
   "metadata": {},
   "outputs": [
    {
     "data": {
      "image/png": "[encoded data removed]",
      "text/plain": [
       "<matplotlib.figure.Figure at 0x7fca006cab70>"
      ]
     },
     "metadata": {},
     "output_type": "display_data"
    }
   ],
   "source": [
    "import matplotlib.pyplot as plt\n",
    "%matplotlib inline\n",
    "\n",
    "plt.plot(np.arange(0,epochs,1), Evaluate.tr_acc, 'b', label='Training Accuracy')\n",
    "plt.plot(np.arange(0,epochs,1), Evaluate.te_acc, 'r', label='Testing Accuracy')\n",
    "\n",
    "plt.title('Training and Testing Accuracy for each Epoch')\n",
    "plt.xlabel('Epochs')\n",
    "plt.ylabel('Accuracy')\n",
    "plt.legend()\n",
    "plt.show()"
   ]
  },
  {
   "cell_type": "markdown",
   "metadata": {},
   "source": [
    "#### 觀察訓練和測試的結果：\n",
    "#### 1.大約收斂在20個epoch\n",
    "#### 2.訓練和測試的準確度相關性高，且未出現overfitting，可以選擇training準確度較高的模型"
   ]
  },
  {
   "cell_type": "code",
   "execution_count": 18,
   "metadata": {},
   "outputs": [
    {
     "data": {
      "text/plain": [
       "0.999879798060742"
      ]
     },
     "execution_count": 18,
     "metadata": {},
     "output_type": "execute_result"
    }
   ],
   "source": [
    "max(Evaluate.tr_acc)"
   ]
  },
  {
   "cell_type": "markdown",
   "metadata": {},
   "source": [
    "## training (all data)"
   ]
  },
  {
   "cell_type": "code",
   "execution_count": 19,
   "metadata": {},
   "outputs": [
    {
     "name": "stderr",
     "output_type": "stream",
     "text": [
      "/home/cxshe/.local/lib/python3.5/site-packages/ipykernel_launcher.py:3: UserWarning: Update your `Conv2D` call to the Keras 2 API: `Conv2D(32, (3, 3), padding=\"valid\", input_shape=(200, 60, ..., activation=\"relu\")`\n",
      "  This is separate from the ipykernel package so we can avoid doing imports until\n",
      "/home/cxshe/.local/lib/python3.5/site-packages/ipykernel_launcher.py:9: UserWarning: Update your `Conv2D` call to the Keras 2 API: `Conv2D(64, (3, 3), padding=\"valid\", activation=\"relu\")`\n",
      "  if __name__ == '__main__':\n",
      "/home/cxshe/.local/lib/python3.5/site-packages/ipykernel_launcher.py:15: UserWarning: Update your `Conv2D` call to the Keras 2 API: `Conv2D(128, (3, 3), padding=\"valid\", activation=\"relu\")`\n",
      "  from ipykernel import kernelapp as app\n",
      "/home/cxshe/.local/lib/python3.5/site-packages/ipykernel_launcher.py:24: UserWarning: Update your `GRU` call to the Keras 2 API: `GRU(units=256, return_sequences=True)`\n"
     ]
    },
    {
     "name": "stdout",
     "output_type": "stream",
     "text": [
      "_________________________________________________________________\n",
      "Layer (type)                 Output Shape              Param #   \n",
      "=================================================================\n",
      "conv2d_7 (Conv2D)            (None, 198, 58, 32)       320       \n",
      "_________________________________________________________________\n",
      "conv2d_8 (Conv2D)            (None, 196, 56, 32)       9248      \n",
      "_________________________________________________________________\n",
      "batch_normalization_4 (Batch (None, 196, 56, 32)       128       \n",
      "_________________________________________________________________\n",
      "max_pooling2d_4 (MaxPooling2 (None, 98, 28, 32)        0         \n",
      "_________________________________________________________________\n",
      "dropout_4 (Dropout)          (None, 98, 28, 32)        0         \n",
      "_________________________________________________________________\n",
      "conv2d_9 (Conv2D)            (None, 96, 26, 64)        18496     \n",
      "_________________________________________________________________\n",
      "conv2d_10 (Conv2D)           (None, 94, 24, 64)        36928     \n",
      "_________________________________________________________________\n",
      "batch_normalization_5 (Batch (None, 94, 24, 64)        256       \n",
      "_________________________________________________________________\n",
      "max_pooling2d_5 (MaxPooling2 (None, 47, 12, 64)        0         \n",
      "_________________________________________________________________\n",
      "dropout_5 (Dropout)          (None, 47, 12, 64)        0         \n",
      "_________________________________________________________________\n",
      "conv2d_11 (Conv2D)           (None, 45, 10, 128)       73856     \n",
      "_________________________________________________________________\n",
      "conv2d_12 (Conv2D)           (None, 43, 8, 128)        147584    \n",
      "_________________________________________________________________\n",
      "batch_normalization_6 (Batch (None, 43, 8, 128)        512       \n",
      "_________________________________________________________________\n",
      "max_pooling2d_6 (MaxPooling2 (None, 21, 4, 128)        0         \n",
      "_________________________________________________________________\n",
      "dropout_6 (Dropout)          (None, 21, 4, 128)        0         \n",
      "_________________________________________________________________\n",
      "flatten_2 (Flatten)          (None, 10752)             0         \n",
      "_________________________________________________________________\n",
      "dense_3 (Dense)              (None, 256)               2752768   \n",
      "_________________________________________________________________\n",
      "repeat_vector_2 (RepeatVecto (None, 6, 256)            0         \n",
      "_________________________________________________________________\n",
      "bidirectional_2 (Bidirection (None, 6, 512)            787968    \n",
      "_________________________________________________________________\n",
      "time_distributed_2 (TimeDist (None, 6, 35)             17955     \n",
      "=================================================================\n",
      "Total params: 3,846,019\n",
      "Trainable params: 3,845,571\n",
      "Non-trainable params: 448\n",
      "_________________________________________________________________\n"
     ]
    }
   ],
   "source": [
    "input_shape = x_data[0].shape\n",
    "maxlen = np.max(df['len'])\n",
    "vocab_size = len(le.classes_)\n",
    "\n",
    "model = get_model(input_shape=input_shape, maxlen=maxlen, vocab_size=vocab_size)\n",
    "model.compile(loss='categorical_crossentropy', optimizer='adam', metrics=['accuracy'])\n",
    "model.summary()"
   ]
  },
  {
   "cell_type": "code",
   "execution_count": 22,
   "metadata": {
    "collapsed": true
   },
   "outputs": [],
   "source": [
    "def get_result(x, model):\n",
    "    scores = model.predict(x)\n",
    "    pred_le = [ [np.argmax(s) for s in score] for score in scores]\n",
    "    pred_y = [''.join(p) for p in le.inverse_transform(pred_le)]\n",
    "    return pred_y\n",
    "\n",
    "def get_acc(x, y, model):\n",
    "    pred_y = get_result(x, model)\n",
    "    return accuracy_score(y, pred_y)\n",
    "     \n",
    "\n",
    "class EvaluateCallback(Callback):\n",
    "    def __init__(self, x_tr, y_tr):\n",
    "        self.x_tr = x_tr\n",
    "        self.y_tr = y_tr\n",
    "        self.tr_acc = []\n",
    "    \n",
    "    def on_epoch_end(self, epoch, logs={}):\n",
    "        current_acc = get_acc(self.x_tr, self.y_tr, self.model)\n",
    "        self.tr_acc.append(current_acc)\n",
    "        #選擇準確率0.995以上，並紀錄epoch\n",
    "        if current_acc > 0.995:\n",
    "            model.save('{}_{}.h5'.format(model_name, epoch))"
   ]
  },
  {
   "cell_type": "code",
   "execution_count": 23,
   "metadata": {
    "scrolled": true
   },
   "outputs": [
    {
     "name": "stdout",
     "output_type": "stream",
     "text": [
      "Epoch 1/50\n",
      "31198/31198 [==============================] - 28s 896us/step - loss: 2.4876 - acc: 0.1876\n",
      "Epoch 2/50\n",
      "31198/31198 [==============================] - 27s 857us/step - loss: 2.3160 - acc: 0.2444\n",
      "Epoch 3/50\n",
      "31198/31198 [==============================] - 27s 857us/step - loss: 1.9211 - acc: 0.4033\n",
      "Epoch 4/50\n",
      "31198/31198 [==============================] - 27s 858us/step - loss: 1.2375 - acc: 0.6341\n",
      "Epoch 5/50\n",
      "31198/31198 [==============================] - 27s 858us/step - loss: 0.6404 - acc: 0.8384\n",
      "Epoch 6/50\n",
      "31198/31198 [==============================] - 27s 859us/step - loss: 0.3477 - acc: 0.9160\n",
      "Epoch 7/50\n",
      "31198/31198 [==============================] - 27s 858us/step - loss: 0.2145 - acc: 0.9490\n",
      "Epoch 8/50\n",
      "31198/31198 [==============================] - 27s 858us/step - loss: 0.1434 - acc: 0.9686\n",
      "Epoch 9/50\n",
      "31198/31198 [==============================] - 27s 858us/step - loss: 0.0948 - acc: 0.9820\n",
      "Epoch 10/50\n",
      "31198/31198 [==============================] - 27s 859us/step - loss: 0.0668 - acc: 0.9883\n",
      "Epoch 11/50\n",
      "31198/31198 [==============================] - 27s 858us/step - loss: 0.0502 - acc: 0.9919\n",
      "Epoch 12/50\n",
      "31198/31198 [==============================] - 27s 858us/step - loss: 0.0346 - acc: 0.9951\n",
      "Epoch 13/50\n",
      "31198/31198 [==============================] - 27s 858us/step - loss: 0.0282 - acc: 0.9957\n",
      "Epoch 14/50\n",
      "31198/31198 [==============================] - 27s 860us/step - loss: 0.0252 - acc: 0.9963\n",
      "Epoch 15/50\n",
      "31198/31198 [==============================] - 27s 859us/step - loss: 0.0200 - acc: 0.9969\n",
      "Epoch 16/50\n",
      "31198/31198 [==============================] - 27s 859us/step - loss: 0.0193 - acc: 0.9969\n",
      "Epoch 17/50\n",
      "31198/31198 [==============================] - 27s 859us/step - loss: 0.0181 - acc: 0.9970\n",
      "Epoch 18/50\n",
      "31198/31198 [==============================] - 27s 859us/step - loss: 0.0196 - acc: 0.9965\n",
      "Epoch 19/50\n",
      "31198/31198 [==============================] - 27s 859us/step - loss: 0.0198 - acc: 0.9961\n",
      "Epoch 20/50\n",
      "31198/31198 [==============================] - 27s 858us/step - loss: 0.0157 - acc: 0.9971\n",
      "Epoch 21/50\n",
      "31198/31198 [==============================] - 27s 859us/step - loss: 0.0160 - acc: 0.9969\n",
      "Epoch 22/50\n",
      "31198/31198 [==============================] - 27s 859us/step - loss: 0.0155 - acc: 0.9968\n",
      "Epoch 23/50\n",
      "31198/31198 [==============================] - 27s 859us/step - loss: 0.0119 - acc: 0.9976\n",
      "Epoch 24/50\n",
      "31198/31198 [==============================] - 27s 858us/step - loss: 0.0142 - acc: 0.9969\n",
      "Epoch 25/50\n",
      "31198/31198 [==============================] - 27s 858us/step - loss: 0.0132 - acc: 0.9972\n",
      "Epoch 26/50\n",
      "31198/31198 [==============================] - 27s 859us/step - loss: 0.0150 - acc: 0.9967\n",
      "Epoch 27/50\n",
      "31198/31198 [==============================] - 27s 858us/step - loss: 0.0106 - acc: 0.9979\n",
      "Epoch 28/50\n",
      "31198/31198 [==============================] - 27s 858us/step - loss: 0.0123 - acc: 0.9972\n",
      "Epoch 29/50\n",
      "31198/31198 [==============================] - 27s 858us/step - loss: 0.0088 - acc: 0.9980\n",
      "Epoch 30/50\n",
      "31198/31198 [==============================] - 27s 858us/step - loss: 0.0096 - acc: 0.9978\n",
      "Epoch 31/50\n",
      "31198/31198 [==============================] - 27s 859us/step - loss: 0.0114 - acc: 0.9974\n",
      "Epoch 32/50\n",
      "31198/31198 [==============================] - 27s 858us/step - loss: 0.0086 - acc: 0.9981\n",
      "Epoch 33/50\n",
      "31198/31198 [==============================] - 27s 858us/step - loss: 0.0191 - acc: 0.9950\n",
      "Epoch 34/50\n",
      "31198/31198 [==============================] - 27s 858us/step - loss: 0.0093 - acc: 0.9978\n",
      "Epoch 35/50\n",
      "31198/31198 [==============================] - 27s 859us/step - loss: 0.0050 - acc: 0.9990\n",
      "Epoch 36/50\n",
      "31198/31198 [==============================] - 27s 858us/step - loss: 0.0058 - acc: 0.9986\n",
      "Epoch 37/50\n",
      "31198/31198 [==============================] - 27s 858us/step - loss: 0.0059 - acc: 0.9986\n",
      "Epoch 38/50\n",
      "31198/31198 [==============================] - 27s 859us/step - loss: 0.0055 - acc: 0.9987\n",
      "Epoch 39/50\n",
      "31198/31198 [==============================] - 27s 858us/step - loss: 0.0089 - acc: 0.9978\n",
      "Epoch 40/50\n",
      "31198/31198 [==============================] - 27s 858us/step - loss: 0.0131 - acc: 0.9964\n",
      "Epoch 41/50\n",
      "31198/31198 [==============================] - 27s 858us/step - loss: 0.0062 - acc: 0.9985\n",
      "Epoch 42/50\n",
      "31198/31198 [==============================] - 27s 859us/step - loss: 0.0267 - acc: 0.9932\n",
      "Epoch 43/50\n",
      "31198/31198 [==============================] - 27s 859us/step - loss: 0.0111 - acc: 0.9972\n",
      "Epoch 44/50\n",
      "31198/31198 [==============================] - 27s 859us/step - loss: 0.0038 - acc: 0.9992\n",
      "Epoch 45/50\n",
      "31198/31198 [==============================] - 27s 859us/step - loss: 0.0034 - acc: 0.9992\n",
      "Epoch 46/50\n",
      "31198/31198 [==============================] - 27s 859us/step - loss: 0.0031 - acc: 0.9992\n",
      "Epoch 47/50\n",
      "31198/31198 [==============================] - 27s 859us/step - loss: 0.0035 - acc: 0.9991\n",
      "Epoch 48/50\n",
      "31198/31198 [==============================] - 27s 859us/step - loss: 0.0050 - acc: 0.9988\n",
      "Epoch 49/50\n",
      "31198/31198 [==============================] - 27s 858us/step - loss: 0.0070 - acc: 0.9982\n",
      "Epoch 50/50\n",
      "31198/31198 [==============================] - 27s 858us/step - loss: 0.0046 - acc: 0.9989\n"
     ]
    },
    {
     "data": {
      "text/plain": [
       "<keras.callbacks.History at 0x7fc9d973dcc0>"
      ]
     },
     "execution_count": 23,
     "metadata": {},
     "output_type": "execute_result"
    }
   ],
   "source": [
    "epochs = 50\n",
    "Evaluate = EvaluateCallback(x_data, df['y'])\n",
    "model.fit(x_data, y_data, batch_size=128, epochs=epochs, verbose=1,\n",
    "          callbacks=[Evaluate]\n",
    "         )"
   ]
  },
  {
   "cell_type": "code",
   "execution_count": 24,
   "metadata": {},
   "outputs": [
    {
     "data": {
      "image/png": "[encoded data removed]",
      "text/plain": [
       "<matplotlib.figure.Figure at 0x7fc9d9fa9dd8>"
      ]
     },
     "metadata": {},
     "output_type": "display_data"
    }
   ],
   "source": [
    "%matplotlib inline\n",
    "plt.plot(np.arange(0,epochs,1), Evaluate.tr_acc, 'b', label='Training Accuracy')\n",
    "plt.title('Training Accuracy for each Epoch')\n",
    "plt.xlabel('Epochs')\n",
    "plt.ylabel('Accuracy')\n",
    "plt.legend()\n",
    "plt.show()"
   ]
  },
  {
   "cell_type": "code",
   "execution_count": 25,
   "metadata": {},
   "outputs": [
    {
     "data": {
      "text/plain": [
       "['./model/label_encoder_cnn_rnn']"
      ]
     },
     "execution_count": 25,
     "metadata": {},
     "output_type": "execute_result"
    }
   ],
   "source": [
    "from sklearn.externals import joblib\n",
    "label_encoder = {\n",
    "    \"le\": le,\n",
    "}\n",
    "joblib.dump(label_encoder, model_name.replace('model_', 'label_encoder_'))"
   ]
  }
 ],
 "metadata": {
  "kernelspec": {
   "display_name": "Python 3",
   "language": "python",
   "name": "python3"
  },
  "language_info": {
   "codemirror_mode": {
    "name": "ipython",
    "version": 3
   },
   "file_extension": ".py",
   "mimetype": "text/x-python",
   "name": "python",
   "nbconvert_exporter": "python",
   "pygments_lexer": "ipython3",
   "version": "3.6.2"
  }
 },
 "nbformat": 4,
 "nbformat_minor": 2
}
